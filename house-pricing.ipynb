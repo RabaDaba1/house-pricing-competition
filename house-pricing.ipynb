{
 "cells": [
  {
   "cell_type": "code",
   "execution_count": 1,
   "id": "20840107",
   "metadata": {
    "_cell_guid": "b1076dfc-b9ad-4769-8c92-a6c4dae69d19",
    "_uuid": "8f2839f25d086af736a60e9eeb907d3b93b6e0e5",
    "execution": {
     "iopub.execute_input": "2023-04-27T20:25:57.276743Z",
     "iopub.status.busy": "2023-04-27T20:25:57.276232Z",
     "iopub.status.idle": "2023-04-27T20:25:59.347599Z",
     "shell.execute_reply": "2023-04-27T20:25:59.346249Z"
    },
    "papermill": {
     "duration": 2.087984,
     "end_time": "2023-04-27T20:25:59.351328",
     "exception": false,
     "start_time": "2023-04-27T20:25:57.263344",
     "status": "completed"
    },
    "tags": []
   },
   "outputs": [],
   "source": [
    "import numpy as np # linear algebra\n",
    "import pandas as pd # data processing, CSV file I/O (e.g. pd.read_csv)\n",
    "\n",
    "from matplotlib import pyplot as plt\n",
    "\n",
    "from sklearn.metrics import mean_squared_error\n",
    "from sklearn.experimental import enable_iterative_imputer\n",
    "from sklearn.impute import IterativeImputer\n",
    "from sklearn.preprocessing import OneHotEncoder, StandardScaler, QuantileTransformer\n",
    "from sklearn.feature_selection import VarianceThreshold\n",
    "from sklearn.model_selection import train_test_split\n",
    "from sklearn.pipeline import make_pipeline\n",
    "from sklearn.compose import make_column_transformer, make_column_selector\n",
    "\n",
    "from xgboost import XGBRegressor\n",
    "\n",
    "# import packages for hyperparameters tuning\n",
    "from hyperopt import STATUS_OK, Trials, fmin, hp, tpe\n",
    "\n",
    "RANDOM_STATE = 2137"
   ]
  },
  {
   "cell_type": "markdown",
   "id": "08c69e50",
   "metadata": {
    "papermill": {
     "duration": 0.005993,
     "end_time": "2023-04-27T20:25:59.363839",
     "exception": false,
     "start_time": "2023-04-27T20:25:59.357846",
     "status": "completed"
    },
    "tags": []
   },
   "source": [
    "# Load data"
   ]
  },
  {
   "cell_type": "code",
   "execution_count": 2,
   "id": "ed3286b6",
   "metadata": {
    "execution": {
     "iopub.execute_input": "2023-04-27T20:25:59.378130Z",
     "iopub.status.busy": "2023-04-27T20:25:59.377680Z",
     "iopub.status.idle": "2023-04-27T20:25:59.428690Z",
     "shell.execute_reply": "2023-04-27T20:25:59.427572Z"
    },
    "papermill": {
     "duration": 0.061377,
     "end_time": "2023-04-27T20:25:59.431441",
     "exception": false,
     "start_time": "2023-04-27T20:25:59.370064",
     "status": "completed"
    },
    "tags": []
   },
   "outputs": [],
   "source": [
    "training_set = pd.read_csv('/kaggle/input/house-prices-advanced-regression-techniques/train.csv', index_col='Id')"
   ]
  },
  {
   "cell_type": "code",
   "execution_count": 3,
   "id": "a5cc2cfb",
   "metadata": {
    "execution": {
     "iopub.execute_input": "2023-04-27T20:25:59.445868Z",
     "iopub.status.busy": "2023-04-27T20:25:59.445426Z",
     "iopub.status.idle": "2023-04-27T20:25:59.483119Z",
     "shell.execute_reply": "2023-04-27T20:25:59.481786Z"
    },
    "papermill": {
     "duration": 0.048504,
     "end_time": "2023-04-27T20:25:59.486256",
     "exception": false,
     "start_time": "2023-04-27T20:25:59.437752",
     "status": "completed"
    },
    "tags": []
   },
   "outputs": [
    {
     "data": {
      "text/plain": [
       "(1459, 79)"
      ]
     },
     "execution_count": 3,
     "metadata": {},
     "output_type": "execute_result"
    }
   ],
   "source": [
    "x_test = pd.read_csv(\"/kaggle/input/house-prices-advanced-regression-techniques/test.csv\", index_col='Id')\n",
    "x_test.shape"
   ]
  },
  {
   "cell_type": "markdown",
   "id": "c02a16bc",
   "metadata": {
    "papermill": {
     "duration": 0.006208,
     "end_time": "2023-04-27T20:25:59.498968",
     "exception": false,
     "start_time": "2023-04-27T20:25:59.492760",
     "status": "completed"
    },
    "tags": []
   },
   "source": [
    "# Examine data"
   ]
  },
  {
   "cell_type": "code",
   "execution_count": 4,
   "id": "1bb540f3",
   "metadata": {
    "execution": {
     "iopub.execute_input": "2023-04-27T20:25:59.513905Z",
     "iopub.status.busy": "2023-04-27T20:25:59.513489Z",
     "iopub.status.idle": "2023-04-27T20:25:59.545391Z",
     "shell.execute_reply": "2023-04-27T20:25:59.543940Z"
    },
    "papermill": {
     "duration": 0.043735,
     "end_time": "2023-04-27T20:25:59.548957",
     "exception": false,
     "start_time": "2023-04-27T20:25:59.505222",
     "status": "completed"
    },
    "tags": []
   },
   "outputs": [
    {
     "name": "stdout",
     "output_type": "stream",
     "text": [
      "<class 'pandas.core.frame.DataFrame'>\n",
      "Int64Index: 1460 entries, 1 to 1460\n",
      "Data columns (total 80 columns):\n",
      " #   Column         Non-Null Count  Dtype  \n",
      "---  ------         --------------  -----  \n",
      " 0   MSSubClass     1460 non-null   int64  \n",
      " 1   MSZoning       1460 non-null   object \n",
      " 2   LotFrontage    1201 non-null   float64\n",
      " 3   LotArea        1460 non-null   int64  \n",
      " 4   Street         1460 non-null   object \n",
      " 5   Alley          91 non-null     object \n",
      " 6   LotShape       1460 non-null   object \n",
      " 7   LandContour    1460 non-null   object \n",
      " 8   Utilities      1460 non-null   object \n",
      " 9   LotConfig      1460 non-null   object \n",
      " 10  LandSlope      1460 non-null   object \n",
      " 11  Neighborhood   1460 non-null   object \n",
      " 12  Condition1     1460 non-null   object \n",
      " 13  Condition2     1460 non-null   object \n",
      " 14  BldgType       1460 non-null   object \n",
      " 15  HouseStyle     1460 non-null   object \n",
      " 16  OverallQual    1460 non-null   int64  \n",
      " 17  OverallCond    1460 non-null   int64  \n",
      " 18  YearBuilt      1460 non-null   int64  \n",
      " 19  YearRemodAdd   1460 non-null   int64  \n",
      " 20  RoofStyle      1460 non-null   object \n",
      " 21  RoofMatl       1460 non-null   object \n",
      " 22  Exterior1st    1460 non-null   object \n",
      " 23  Exterior2nd    1460 non-null   object \n",
      " 24  MasVnrType     1452 non-null   object \n",
      " 25  MasVnrArea     1452 non-null   float64\n",
      " 26  ExterQual      1460 non-null   object \n",
      " 27  ExterCond      1460 non-null   object \n",
      " 28  Foundation     1460 non-null   object \n",
      " 29  BsmtQual       1423 non-null   object \n",
      " 30  BsmtCond       1423 non-null   object \n",
      " 31  BsmtExposure   1422 non-null   object \n",
      " 32  BsmtFinType1   1423 non-null   object \n",
      " 33  BsmtFinSF1     1460 non-null   int64  \n",
      " 34  BsmtFinType2   1422 non-null   object \n",
      " 35  BsmtFinSF2     1460 non-null   int64  \n",
      " 36  BsmtUnfSF      1460 non-null   int64  \n",
      " 37  TotalBsmtSF    1460 non-null   int64  \n",
      " 38  Heating        1460 non-null   object \n",
      " 39  HeatingQC      1460 non-null   object \n",
      " 40  CentralAir     1460 non-null   object \n",
      " 41  Electrical     1459 non-null   object \n",
      " 42  1stFlrSF       1460 non-null   int64  \n",
      " 43  2ndFlrSF       1460 non-null   int64  \n",
      " 44  LowQualFinSF   1460 non-null   int64  \n",
      " 45  GrLivArea      1460 non-null   int64  \n",
      " 46  BsmtFullBath   1460 non-null   int64  \n",
      " 47  BsmtHalfBath   1460 non-null   int64  \n",
      " 48  FullBath       1460 non-null   int64  \n",
      " 49  HalfBath       1460 non-null   int64  \n",
      " 50  BedroomAbvGr   1460 non-null   int64  \n",
      " 51  KitchenAbvGr   1460 non-null   int64  \n",
      " 52  KitchenQual    1460 non-null   object \n",
      " 53  TotRmsAbvGrd   1460 non-null   int64  \n",
      " 54  Functional     1460 non-null   object \n",
      " 55  Fireplaces     1460 non-null   int64  \n",
      " 56  FireplaceQu    770 non-null    object \n",
      " 57  GarageType     1379 non-null   object \n",
      " 58  GarageYrBlt    1379 non-null   float64\n",
      " 59  GarageFinish   1379 non-null   object \n",
      " 60  GarageCars     1460 non-null   int64  \n",
      " 61  GarageArea     1460 non-null   int64  \n",
      " 62  GarageQual     1379 non-null   object \n",
      " 63  GarageCond     1379 non-null   object \n",
      " 64  PavedDrive     1460 non-null   object \n",
      " 65  WoodDeckSF     1460 non-null   int64  \n",
      " 66  OpenPorchSF    1460 non-null   int64  \n",
      " 67  EnclosedPorch  1460 non-null   int64  \n",
      " 68  3SsnPorch      1460 non-null   int64  \n",
      " 69  ScreenPorch    1460 non-null   int64  \n",
      " 70  PoolArea       1460 non-null   int64  \n",
      " 71  PoolQC         7 non-null      object \n",
      " 72  Fence          281 non-null    object \n",
      " 73  MiscFeature    54 non-null     object \n",
      " 74  MiscVal        1460 non-null   int64  \n",
      " 75  MoSold         1460 non-null   int64  \n",
      " 76  YrSold         1460 non-null   int64  \n",
      " 77  SaleType       1460 non-null   object \n",
      " 78  SaleCondition  1460 non-null   object \n",
      " 79  SalePrice      1460 non-null   int64  \n",
      "dtypes: float64(3), int64(34), object(43)\n",
      "memory usage: 923.9+ KB\n"
     ]
    }
   ],
   "source": [
    "training_set.info()"
   ]
  },
  {
   "cell_type": "code",
   "execution_count": 5,
   "id": "7e7ecc47",
   "metadata": {
    "execution": {
     "iopub.execute_input": "2023-04-27T20:25:59.564063Z",
     "iopub.status.busy": "2023-04-27T20:25:59.563342Z",
     "iopub.status.idle": "2023-04-27T20:25:59.573825Z",
     "shell.execute_reply": "2023-04-27T20:25:59.571901Z"
    },
    "papermill": {
     "duration": 0.020973,
     "end_time": "2023-04-27T20:25:59.576443",
     "exception": false,
     "start_time": "2023-04-27T20:25:59.555470",
     "status": "completed"
    },
    "tags": []
   },
   "outputs": [
    {
     "name": "stdout",
     "output_type": "stream",
     "text": [
      "(1460, 79) (1460,)\n"
     ]
    }
   ],
   "source": [
    "x, y = training_set.drop(columns='SalePrice'), training_set['SalePrice']\n",
    "print(x.shape, y.shape)"
   ]
  },
  {
   "cell_type": "markdown",
   "id": "ab8b72a1",
   "metadata": {
    "papermill": {
     "duration": 0.00618,
     "end_time": "2023-04-27T20:25:59.589189",
     "exception": false,
     "start_time": "2023-04-27T20:25:59.583009",
     "status": "completed"
    },
    "tags": []
   },
   "source": [
    "# Create pipeline for data processing"
   ]
  },
  {
   "cell_type": "code",
   "execution_count": 6,
   "id": "fd31e9b7",
   "metadata": {
    "execution": {
     "iopub.execute_input": "2023-04-27T20:25:59.604056Z",
     "iopub.status.busy": "2023-04-27T20:25:59.603595Z",
     "iopub.status.idle": "2023-04-27T20:25:59.610247Z",
     "shell.execute_reply": "2023-04-27T20:25:59.609250Z"
    },
    "papermill": {
     "duration": 0.01672,
     "end_time": "2023-04-27T20:25:59.612354",
     "exception": false,
     "start_time": "2023-04-27T20:25:59.595634",
     "status": "completed"
    },
    "tags": []
   },
   "outputs": [],
   "source": [
    "my_transformer = make_column_transformer(\n",
    "    (\n",
    "        OneHotEncoder(sparse=False, handle_unknown='ignore'),\n",
    "        make_column_selector(dtype_include='object')\n",
    "    ),\n",
    "    remainder='passthrough',\n",
    "    verbose_feature_names_out=False\n",
    ")\n",
    "\n",
    "pipe = make_pipeline(\n",
    "    my_transformer,\n",
    "    IterativeImputer(random_state=RANDOM_STATE),\n",
    "    StandardScaler(),\n",
    "    QuantileTransformer(output_distribution='normal', random_state=RANDOM_STATE)\n",
    ")"
   ]
  },
  {
   "cell_type": "markdown",
   "id": "7b41516b",
   "metadata": {
    "papermill": {
     "duration": 0.006157,
     "end_time": "2023-04-27T20:25:59.624997",
     "exception": false,
     "start_time": "2023-04-27T20:25:59.618840",
     "status": "completed"
    },
    "tags": []
   },
   "source": [
    "## Transform training set"
   ]
  },
  {
   "cell_type": "code",
   "execution_count": 7,
   "id": "5ec150bf",
   "metadata": {
    "execution": {
     "iopub.execute_input": "2023-04-27T20:25:59.641238Z",
     "iopub.status.busy": "2023-04-27T20:25:59.640450Z",
     "iopub.status.idle": "2023-04-27T20:26:32.424660Z",
     "shell.execute_reply": "2023-04-27T20:26:32.423656Z"
    },
    "papermill": {
     "duration": 32.794857,
     "end_time": "2023-04-27T20:26:32.427389",
     "exception": false,
     "start_time": "2023-04-27T20:25:59.632532",
     "status": "completed"
    },
    "tags": []
   },
   "outputs": [],
   "source": [
    "x = pd.DataFrame(pipe.fit_transform(x), columns=my_transformer.get_feature_names_out())"
   ]
  },
  {
   "cell_type": "markdown",
   "id": "057ff83b",
   "metadata": {
    "papermill": {
     "duration": 0.006185,
     "end_time": "2023-04-27T20:26:32.440737",
     "exception": false,
     "start_time": "2023-04-27T20:26:32.434552",
     "status": "completed"
    },
    "tags": []
   },
   "source": [
    "# Split into train and cross-validation"
   ]
  },
  {
   "cell_type": "code",
   "execution_count": 8,
   "id": "bf80c73b",
   "metadata": {
    "execution": {
     "iopub.execute_input": "2023-04-27T20:26:32.455740Z",
     "iopub.status.busy": "2023-04-27T20:26:32.455299Z",
     "iopub.status.idle": "2023-04-27T20:26:32.467496Z",
     "shell.execute_reply": "2023-04-27T20:26:32.465950Z"
    },
    "papermill": {
     "duration": 0.022616,
     "end_time": "2023-04-27T20:26:32.469974",
     "exception": false,
     "start_time": "2023-04-27T20:26:32.447358",
     "status": "completed"
    },
    "tags": []
   },
   "outputs": [
    {
     "name": "stdout",
     "output_type": "stream",
     "text": [
      "(1168, 304) (1168,)\n",
      "(292, 304) (292,)\n"
     ]
    }
   ],
   "source": [
    "x_train, x_cv, y_train, y_cv = train_test_split(x, y, train_size=0.8, random_state=RANDOM_STATE)\n",
    "\n",
    "print(x_train.shape, y_train.shape)\n",
    "print(x_cv.shape, y_cv.shape)"
   ]
  },
  {
   "cell_type": "markdown",
   "id": "5e182098",
   "metadata": {
    "papermill": {
     "duration": 0.00635,
     "end_time": "2023-04-27T20:26:32.483082",
     "exception": false,
     "start_time": "2023-04-27T20:26:32.476732",
     "status": "completed"
    },
    "tags": []
   },
   "source": [
    "# Tune hyperparameters using Hyperopt"
   ]
  },
  {
   "cell_type": "code",
   "execution_count": 9,
   "id": "de914f1f",
   "metadata": {
    "execution": {
     "iopub.execute_input": "2023-04-27T20:26:32.498094Z",
     "iopub.status.busy": "2023-04-27T20:26:32.497641Z",
     "iopub.status.idle": "2023-04-27T20:26:32.505199Z",
     "shell.execute_reply": "2023-04-27T20:26:32.503826Z"
    },
    "papermill": {
     "duration": 0.017888,
     "end_time": "2023-04-27T20:26:32.507555",
     "exception": false,
     "start_time": "2023-04-27T20:26:32.489667",
     "status": "completed"
    },
    "tags": []
   },
   "outputs": [],
   "source": [
    "space={\n",
    "    'gamma': hp.uniform ('gamma', 0, 5),\n",
    "    'eta': hp.uniform('eta', 0, .3),\n",
    "    'subsample': hp.uniform('subsample', 0, 1),\n",
    "    'n_estimators': 180,\n",
    "    'max_depth': hp.quniform('max_depth', 1, 20, 1),\n",
    "    'reg_lambda' : hp.uniform('reg_lambda', 0, 10),\n",
    "    'colsample_bytree' : hp.uniform('colsample_bytree', 0.4,1),\n",
    "    'seed': 0\n",
    "    }"
   ]
  },
  {
   "cell_type": "code",
   "execution_count": 10,
   "id": "03f8951c",
   "metadata": {
    "execution": {
     "iopub.execute_input": "2023-04-27T20:26:32.523794Z",
     "iopub.status.busy": "2023-04-27T20:26:32.522500Z",
     "iopub.status.idle": "2023-04-27T20:26:32.531462Z",
     "shell.execute_reply": "2023-04-27T20:26:32.530460Z"
    },
    "papermill": {
     "duration": 0.019684,
     "end_time": "2023-04-27T20:26:32.534001",
     "exception": false,
     "start_time": "2023-04-27T20:26:32.514317",
     "status": "completed"
    },
    "tags": []
   },
   "outputs": [],
   "source": [
    "def objective(space):\n",
    "    model=XGBRegressor(\n",
    "        eta = space['eta'],\n",
    "        n_estimators = int(space['n_estimators']),\n",
    "        max_depth = int(space['max_depth']),\n",
    "        reg_lambda = space['reg_lambda'],\n",
    "        subsample = space['subsample'],\n",
    "        min_child_weight = int(space['min_child_weight']),\n",
    "        colsample_bytree = space['colsample_bytree'],\n",
    "        eval_metric = \"rmse\",\n",
    "        early_stopping_rounds = 10\n",
    "    )\n",
    "    \n",
    "    \n",
    "    evaluation = [( x_train, y_train), ( x_cv, y_cv)]\n",
    "    \n",
    "    model.fit(\n",
    "        x_train, y_train,\n",
    "        eval_set=evaluation,\n",
    "        verbose=False\n",
    "    )\n",
    "    \n",
    "    pred = model.predict(x_cv)\n",
    "    mse = mean_squared_error(y_cv, pred, squared=True)\n",
    "    return {'loss':mse, 'status': STATUS_OK, 'model': model}"
   ]
  },
  {
   "cell_type": "code",
   "execution_count": 11,
   "id": "68dc2b9d",
   "metadata": {
    "execution": {
     "iopub.execute_input": "2023-04-27T20:26:32.550307Z",
     "iopub.status.busy": "2023-04-27T20:26:32.548807Z",
     "iopub.status.idle": "2023-04-27T20:26:32.555643Z",
     "shell.execute_reply": "2023-04-27T20:26:32.554230Z"
    },
    "papermill": {
     "duration": 0.017853,
     "end_time": "2023-04-27T20:26:32.558523",
     "exception": false,
     "start_time": "2023-04-27T20:26:32.540670",
     "status": "completed"
    },
    "tags": []
   },
   "outputs": [],
   "source": [
    "trials = Trials()\n",
    "\n",
    "#best_hyperparams = fmin(fn = objective, space = space, algo = tpe.suggest, max_evals=5000, trials = trials)"
   ]
  },
  {
   "cell_type": "markdown",
   "id": "e1c0ddc2",
   "metadata": {
    "papermill": {
     "duration": 0.006576,
     "end_time": "2023-04-27T20:26:32.571919",
     "exception": false,
     "start_time": "2023-04-27T20:26:32.565343",
     "status": "completed"
    },
    "tags": []
   },
   "source": [
    "## Extract best parameters"
   ]
  },
  {
   "cell_type": "code",
   "execution_count": 12,
   "id": "86409693",
   "metadata": {
    "execution": {
     "iopub.execute_input": "2023-04-27T20:26:32.587111Z",
     "iopub.status.busy": "2023-04-27T20:26:32.586691Z",
     "iopub.status.idle": "2023-04-27T20:26:32.591531Z",
     "shell.execute_reply": "2023-04-27T20:26:32.590360Z"
    },
    "papermill": {
     "duration": 0.015406,
     "end_time": "2023-04-27T20:26:32.593942",
     "exception": false,
     "start_time": "2023-04-27T20:26:32.578536",
     "status": "completed"
    },
    "tags": []
   },
   "outputs": [],
   "source": [
    "#best_hyperparams"
   ]
  },
  {
   "cell_type": "code",
   "execution_count": 13,
   "id": "279fd697",
   "metadata": {
    "execution": {
     "iopub.execute_input": "2023-04-27T20:26:32.609249Z",
     "iopub.status.busy": "2023-04-27T20:26:32.608819Z",
     "iopub.status.idle": "2023-04-27T20:26:32.615219Z",
     "shell.execute_reply": "2023-04-27T20:26:32.613893Z"
    },
    "papermill": {
     "duration": 0.017041,
     "end_time": "2023-04-27T20:26:32.617726",
     "exception": false,
     "start_time": "2023-04-27T20:26:32.600685",
     "status": "completed"
    },
    "tags": []
   },
   "outputs": [],
   "source": [
    "n_estimators = 180\n",
    "colsample_bytree = 0.4396092226617401\n",
    "eta = 0.06258588022261978\n",
    "max_depth = 5\n",
    "min_child_weight = 4\n",
    "reg_lambda = 6.675546531790164\n",
    "subsample = 0.3974055570153105"
   ]
  },
  {
   "cell_type": "markdown",
   "id": "236e5ab7",
   "metadata": {
    "papermill": {
     "duration": 0.006626,
     "end_time": "2023-04-27T20:26:32.631046",
     "exception": false,
     "start_time": "2023-04-27T20:26:32.624420",
     "status": "completed"
    },
    "tags": []
   },
   "source": [
    "# Create and train XGBRegressor model"
   ]
  },
  {
   "cell_type": "code",
   "execution_count": 14,
   "id": "2938eb02",
   "metadata": {
    "execution": {
     "iopub.execute_input": "2023-04-27T20:26:32.646316Z",
     "iopub.status.busy": "2023-04-27T20:26:32.645918Z",
     "iopub.status.idle": "2023-04-27T20:26:34.905235Z",
     "shell.execute_reply": "2023-04-27T20:26:34.904357Z"
    },
    "papermill": {
     "duration": 2.269766,
     "end_time": "2023-04-27T20:26:34.907505",
     "exception": false,
     "start_time": "2023-04-27T20:26:32.637739",
     "status": "completed"
    },
    "tags": []
   },
   "outputs": [
    {
     "data": {
      "text/plain": [
       "XGBRegressor(base_score=0.5, booster='gbtree', callbacks=None,\n",
       "             colsample_bylevel=1, colsample_bynode=1,\n",
       "             colsample_bytree=0.4396092226617401, early_stopping_rounds=10,\n",
       "             enable_categorical=False, eta=0.06258588022261978,\n",
       "             eval_metric=None, gamma=0, gpu_id=-1, grow_policy='depthwise',\n",
       "             importance_type=None, interaction_constraints='',\n",
       "             learning_rate=0.0625858828, max_bin=256, max_cat_to_onehot=4,\n",
       "             max_delta_step=0, max_depth=5, max_leaves=0, min_child_weight=4,\n",
       "             missing=nan, monotone_constraints='()', n_estimators=180, n_jobs=0,\n",
       "             num_parallel_tree=1, predictor='auto', random_state=0, reg_alpha=0, ...)"
      ]
     },
     "execution_count": 14,
     "metadata": {},
     "output_type": "execute_result"
    }
   ],
   "source": [
    "model = XGBRegressor(\n",
    "    max_depth=max_depth,\n",
    "    reg_lambda=reg_lambda,\n",
    "    n_estimators=n_estimators,\n",
    "    eta=eta,\n",
    "    subsample=subsample,\n",
    "    min_child_weight=min_child_weight,\n",
    "    colsample_bytree=colsample_bytree,\n",
    "    early_stopping_rounds=10\n",
    ")\n",
    "model.fit(x_train, y_train,\n",
    "          eval_set=[( x_train, y_train), ( x_cv, y_cv)],\n",
    "          verbose=False)"
   ]
  },
  {
   "cell_type": "markdown",
   "id": "cd93bffd",
   "metadata": {
    "papermill": {
     "duration": 0.006388,
     "end_time": "2023-04-27T20:26:34.920630",
     "exception": false,
     "start_time": "2023-04-27T20:26:34.914242",
     "status": "completed"
    },
    "tags": []
   },
   "source": [
    "## Mesure model's performance"
   ]
  },
  {
   "cell_type": "code",
   "execution_count": 15,
   "id": "cdc1002b",
   "metadata": {
    "execution": {
     "iopub.execute_input": "2023-04-27T20:26:34.936570Z",
     "iopub.status.busy": "2023-04-27T20:26:34.935496Z",
     "iopub.status.idle": "2023-04-27T20:26:34.983330Z",
     "shell.execute_reply": "2023-04-27T20:26:34.982356Z"
    },
    "papermill": {
     "duration": 0.058403,
     "end_time": "2023-04-27T20:26:34.985818",
     "exception": false,
     "start_time": "2023-04-27T20:26:34.927415",
     "status": "completed"
    },
    "tags": []
   },
   "outputs": [
    {
     "name": "stdout",
     "output_type": "stream",
     "text": [
      "Train MSE: 337133301.7677728\n",
      "CV MSE: 399679983.9041567\n",
      "CGBoost score: 0.9316756144019055\n"
     ]
    }
   ],
   "source": [
    "train_pred = model.predict(x_train)\n",
    "cv_pred = model.predict(x_cv)\n",
    "\n",
    "print(f'Train MSE: {mean_squared_error(y_train , train_pred)}')\n",
    "print(f'CV MSE: {mean_squared_error(y_cv , cv_pred)}')\n",
    "\n",
    "print(f'CGBoost score: {model.score(x_cv, y_cv)}')"
   ]
  },
  {
   "cell_type": "markdown",
   "id": "35467300",
   "metadata": {
    "papermill": {
     "duration": 0.007062,
     "end_time": "2023-04-27T20:26:35.000998",
     "exception": false,
     "start_time": "2023-04-27T20:26:34.993936",
     "status": "completed"
    },
    "tags": []
   },
   "source": [
    "## Submission"
   ]
  },
  {
   "cell_type": "code",
   "execution_count": 16,
   "id": "241c2cab",
   "metadata": {
    "execution": {
     "iopub.execute_input": "2023-04-27T20:26:35.016449Z",
     "iopub.status.busy": "2023-04-27T20:26:35.016036Z",
     "iopub.status.idle": "2023-04-27T20:26:35.332196Z",
     "shell.execute_reply": "2023-04-27T20:26:35.331157Z"
    },
    "papermill": {
     "duration": 0.327185,
     "end_time": "2023-04-27T20:26:35.335066",
     "exception": false,
     "start_time": "2023-04-27T20:26:35.007881",
     "status": "completed"
    },
    "tags": []
   },
   "outputs": [],
   "source": [
    "x_test = pd.DataFrame(pipe.transform(x_test), columns=my_transformer.get_feature_names_out())"
   ]
  },
  {
   "cell_type": "code",
   "execution_count": 17,
   "id": "7ec0c9b4",
   "metadata": {
    "execution": {
     "iopub.execute_input": "2023-04-27T20:26:35.350627Z",
     "iopub.status.busy": "2023-04-27T20:26:35.350196Z",
     "iopub.status.idle": "2023-04-27T20:26:35.411154Z",
     "shell.execute_reply": "2023-04-27T20:26:35.409748Z"
    },
    "papermill": {
     "duration": 0.07178,
     "end_time": "2023-04-27T20:26:35.413783",
     "exception": false,
     "start_time": "2023-04-27T20:26:35.342003",
     "status": "completed"
    },
    "tags": []
   },
   "outputs": [
    {
     "data": {
      "text/html": [
       "<div>\n",
       "<style scoped>\n",
       "    .dataframe tbody tr th:only-of-type {\n",
       "        vertical-align: middle;\n",
       "    }\n",
       "\n",
       "    .dataframe tbody tr th {\n",
       "        vertical-align: top;\n",
       "    }\n",
       "\n",
       "    .dataframe thead th {\n",
       "        text-align: right;\n",
       "    }\n",
       "</style>\n",
       "<table border=\"1\" class=\"dataframe\">\n",
       "  <thead>\n",
       "    <tr style=\"text-align: right;\">\n",
       "      <th></th>\n",
       "      <th>Id</th>\n",
       "      <th>SalePrice</th>\n",
       "    </tr>\n",
       "  </thead>\n",
       "  <tbody>\n",
       "    <tr>\n",
       "      <th>0</th>\n",
       "      <td>1461</td>\n",
       "      <td>121837.703125</td>\n",
       "    </tr>\n",
       "    <tr>\n",
       "      <th>1</th>\n",
       "      <td>1462</td>\n",
       "      <td>153240.250000</td>\n",
       "    </tr>\n",
       "    <tr>\n",
       "      <th>2</th>\n",
       "      <td>1463</td>\n",
       "      <td>182725.703125</td>\n",
       "    </tr>\n",
       "    <tr>\n",
       "      <th>3</th>\n",
       "      <td>1464</td>\n",
       "      <td>191240.500000</td>\n",
       "    </tr>\n",
       "    <tr>\n",
       "      <th>4</th>\n",
       "      <td>1465</td>\n",
       "      <td>180076.921875</td>\n",
       "    </tr>\n",
       "    <tr>\n",
       "      <th>...</th>\n",
       "      <td>...</td>\n",
       "      <td>...</td>\n",
       "    </tr>\n",
       "    <tr>\n",
       "      <th>1454</th>\n",
       "      <td>2915</td>\n",
       "      <td>87550.421875</td>\n",
       "    </tr>\n",
       "    <tr>\n",
       "      <th>1455</th>\n",
       "      <td>2916</td>\n",
       "      <td>79391.390625</td>\n",
       "    </tr>\n",
       "    <tr>\n",
       "      <th>1456</th>\n",
       "      <td>2917</td>\n",
       "      <td>173675.906250</td>\n",
       "    </tr>\n",
       "    <tr>\n",
       "      <th>1457</th>\n",
       "      <td>2918</td>\n",
       "      <td>118293.210938</td>\n",
       "    </tr>\n",
       "    <tr>\n",
       "      <th>1458</th>\n",
       "      <td>2919</td>\n",
       "      <td>219805.343750</td>\n",
       "    </tr>\n",
       "  </tbody>\n",
       "</table>\n",
       "<p>1459 rows × 2 columns</p>\n",
       "</div>"
      ],
      "text/plain": [
       "        Id      SalePrice\n",
       "0     1461  121837.703125\n",
       "1     1462  153240.250000\n",
       "2     1463  182725.703125\n",
       "3     1464  191240.500000\n",
       "4     1465  180076.921875\n",
       "...    ...            ...\n",
       "1454  2915   87550.421875\n",
       "1455  2916   79391.390625\n",
       "1456  2917  173675.906250\n",
       "1457  2918  118293.210938\n",
       "1458  2919  219805.343750\n",
       "\n",
       "[1459 rows x 2 columns]"
      ]
     },
     "execution_count": 17,
     "metadata": {},
     "output_type": "execute_result"
    }
   ],
   "source": [
    "sample_submission_df = pd.read_csv('../input/house-prices-advanced-regression-techniques/sample_submission.csv')\n",
    "sample_submission_df['SalePrice'] = model.predict(x_test)\n",
    "sample_submission_df.to_csv('/kaggle/working/submission.csv', index=False)\n",
    "sample_submission_df"
   ]
  }
 ],
 "metadata": {
  "kernelspec": {
   "display_name": "Python 3",
   "language": "python",
   "name": "python3"
  },
  "language_info": {
   "codemirror_mode": {
    "name": "ipython",
    "version": 3
   },
   "file_extension": ".py",
   "mimetype": "text/x-python",
   "name": "python",
   "nbconvert_exporter": "python",
   "pygments_lexer": "ipython3",
   "version": "3.7.12"
  },
  "papermill": {
   "default_parameters": {},
   "duration": 50.205978,
   "end_time": "2023-04-27T20:26:36.243850",
   "environment_variables": {},
   "exception": null,
   "input_path": "__notebook__.ipynb",
   "output_path": "__notebook__.ipynb",
   "parameters": {},
   "start_time": "2023-04-27T20:25:46.037872",
   "version": "2.4.0"
  }
 },
 "nbformat": 4,
 "nbformat_minor": 5
}
